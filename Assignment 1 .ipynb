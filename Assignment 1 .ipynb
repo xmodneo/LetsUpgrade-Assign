{
 "cells": [
  {
   "cell_type": "markdown",
   "id": "54026fd3",
   "metadata": {},
   "source": [
    "Question 1:"
   ]
  },
  {
   "cell_type": "code",
   "execution_count": 45,
   "id": "0147da50",
   "metadata": {},
   "outputs": [],
   "source": [
    "x = 2"
   ]
  },
  {
   "cell_type": "code",
   "execution_count": 46,
   "id": "bb784274",
   "metadata": {},
   "outputs": [],
   "source": [
    "y = 5"
   ]
  },
  {
   "cell_type": "code",
   "execution_count": 47,
   "id": "0de9e6fc",
   "metadata": {},
   "outputs": [],
   "source": [
    "xy = 'hey'"
   ]
  },
  {
   "cell_type": "code",
   "execution_count": 48,
   "id": "fb63cced",
   "metadata": {},
   "outputs": [
    {
     "name": "stdout",
     "output_type": "stream",
     "text": [
      "7 hey\n"
     ]
    }
   ],
   "source": [
    "print(x + y, xy)"
   ]
  },
  {
   "cell_type": "markdown",
   "id": "6edee91d",
   "metadata": {},
   "source": [
    "Question 2:"
   ]
  },
  {
   "cell_type": "code",
   "execution_count": 49,
   "id": "a9350fa5",
   "metadata": {},
   "outputs": [
    {
     "name": "stdout",
     "output_type": "stream",
     "text": [
      "Hello World\n"
     ]
    }
   ],
   "source": [
    "print(\"Hello World\")"
   ]
  },
  {
   "cell_type": "code",
   "execution_count": 50,
   "id": "b9fe68ce",
   "metadata": {},
   "outputs": [],
   "source": [
    "name1 = 'Hello'"
   ]
  },
  {
   "cell_type": "code",
   "execution_count": 51,
   "id": "179d8b64",
   "metadata": {},
   "outputs": [],
   "source": [
    "name2 = 'World'"
   ]
  },
  {
   "cell_type": "code",
   "execution_count": 52,
   "id": "d4e10848",
   "metadata": {},
   "outputs": [
    {
     "name": "stdout",
     "output_type": "stream",
     "text": [
      "Hello World\n"
     ]
    }
   ],
   "source": [
    "print(name1, name2)"
   ]
  },
  {
   "cell_type": "code",
   "execution_count": 53,
   "id": "f870344f",
   "metadata": {},
   "outputs": [],
   "source": [
    "name1 = \"Hello\""
   ]
  },
  {
   "cell_type": "code",
   "execution_count": 54,
   "id": "fefe6d30",
   "metadata": {},
   "outputs": [],
   "source": [
    "name2 = \"World\""
   ]
  },
  {
   "cell_type": "code",
   "execution_count": 55,
   "id": "f0f2e820",
   "metadata": {},
   "outputs": [
    {
     "name": "stdout",
     "output_type": "stream",
     "text": [
      "Hello World\n"
     ]
    }
   ],
   "source": [
    "print(name1 +' '+ name2)"
   ]
  },
  {
   "cell_type": "code",
   "execution_count": 56,
   "id": "4f6fb80b",
   "metadata": {},
   "outputs": [],
   "source": [
    "name1 = \"World\""
   ]
  },
  {
   "cell_type": "code",
   "execution_count": 57,
   "id": "aa9beac3",
   "metadata": {},
   "outputs": [
    {
     "name": "stdout",
     "output_type": "stream",
     "text": [
      "Hello World\n"
     ]
    }
   ],
   "source": [
    "print(\"Hello %s\" % name1)"
   ]
  },
  {
   "cell_type": "markdown",
   "id": "9dfd645d",
   "metadata": {},
   "source": [
    "code:"
   ]
  },
  {
   "cell_type": "code",
   "execution_count": 58,
   "id": "c365dbec",
   "metadata": {},
   "outputs": [
    {
     "name": "stdout",
     "output_type": "stream",
     "text": [
      "My Name is Swapnil.\n",
      "I love Python.\n"
     ]
    }
   ],
   "source": [
    "print(\"\"\"My Name is Swapnil.\n",
    "I love Python.\"\"\")"
   ]
  },
  {
   "cell_type": "markdown",
   "id": "f188472c",
   "metadata": {},
   "source": [
    "code:"
   ]
  },
  {
   "cell_type": "code",
   "execution_count": 59,
   "id": "f83759ef",
   "metadata": {},
   "outputs": [],
   "source": [
    "string1 = 'world'"
   ]
  },
  {
   "cell_type": "code",
   "execution_count": 60,
   "id": "389e6129",
   "metadata": {},
   "outputs": [
    {
     "name": "stdout",
     "output_type": "stream",
     "text": [
      "Hello world\n"
     ]
    }
   ],
   "source": [
    "print('Hello', string1)"
   ]
  },
  {
   "cell_type": "code",
   "execution_count": 61,
   "id": "fac492e1",
   "metadata": {},
   "outputs": [],
   "source": [
    "string2 = \"!\""
   ]
  },
  {
   "cell_type": "code",
   "execution_count": 62,
   "id": "dcae1a4f",
   "metadata": {},
   "outputs": [
    {
     "name": "stdout",
     "output_type": "stream",
     "text": [
      "Hello world !\n"
     ]
    }
   ],
   "source": [
    "print(\"Hello\", string1, string2)"
   ]
  },
  {
   "cell_type": "markdown",
   "id": "70828d3d",
   "metadata": {},
   "source": [
    "code:"
   ]
  },
  {
   "cell_type": "code",
   "execution_count": 63,
   "id": "8beb42e9",
   "metadata": {},
   "outputs": [
    {
     "name": "stdout",
     "output_type": "stream",
     "text": [
      "Hello world !\n"
     ]
    }
   ],
   "source": [
    "print(\"Hello\", string1 + ' '+ string2)"
   ]
  },
  {
   "cell_type": "markdown",
   "id": "bc55bd3a",
   "metadata": {},
   "source": [
    "code:"
   ]
  },
  {
   "cell_type": "code",
   "execution_count": 64,
   "id": "9df848b6",
   "metadata": {
    "scrolled": true
   },
   "outputs": [
    {
     "name": "stdout",
     "output_type": "stream",
     "text": [
      "Jan\n",
      "Feb\n",
      "Mar\n",
      "Apr\n",
      "May\n",
      "Jun\n",
      "Jul\n",
      "Aug\n"
     ]
    }
   ],
   "source": [
    "print(\"Jan\\nFeb\\nMar\\nApr\\nMay\\nJun\\nJul\\nAug\")"
   ]
  },
  {
   "cell_type": "markdown",
   "id": "b167eee1",
   "metadata": {},
   "source": [
    "code:"
   ]
  },
  {
   "cell_type": "code",
   "execution_count": 65,
   "id": "7f2410ce",
   "metadata": {},
   "outputs": [
    {
     "name": "stdout",
     "output_type": "stream",
     "text": [
      "I want \\n to be printed.\n"
     ]
    }
   ],
   "source": [
    "print(\"I want \\\\n to be printed.\")"
   ]
  },
  {
   "cell_type": "markdown",
   "id": "9e44b80e",
   "metadata": {},
   "source": [
    "code:"
   ]
  },
  {
   "cell_type": "code",
   "execution_count": 67,
   "id": "7c1ae08b",
   "metadata": {},
   "outputs": [],
   "source": [
    "x = 10"
   ]
  },
  {
   "cell_type": "code",
   "execution_count": 69,
   "id": "56e5e359",
   "metadata": {},
   "outputs": [
    {
     "name": "stdout",
     "output_type": "stream",
     "text": [
      "<class 'int'>\n"
     ]
    }
   ],
   "source": [
    "print(type(x))"
   ]
  },
  {
   "cell_type": "code",
   "execution_count": 70,
   "id": "721c49f8",
   "metadata": {},
   "outputs": [],
   "source": [
    "s = 'abc'"
   ]
  },
  {
   "cell_type": "code",
   "execution_count": 71,
   "id": "5f32e519",
   "metadata": {},
   "outputs": [
    {
     "name": "stdout",
     "output_type": "stream",
     "text": [
      "<class 'str'>\n"
     ]
    }
   ],
   "source": [
    "print(type(s))"
   ]
  },
  {
   "cell_type": "code",
   "execution_count": 73,
   "id": "313bf148",
   "metadata": {},
   "outputs": [],
   "source": [
    "value = True"
   ]
  },
  {
   "cell_type": "code",
   "execution_count": 74,
   "id": "d5d9dc98",
   "metadata": {},
   "outputs": [
    {
     "name": "stdout",
     "output_type": "stream",
     "text": [
      "<class 'bool'>\n"
     ]
    }
   ],
   "source": [
    "print(type(value))"
   ]
  },
  {
   "cell_type": "code",
   "execution_count": 75,
   "id": "cf5ea41d",
   "metadata": {},
   "outputs": [],
   "source": [
    "percent = 90.00"
   ]
  },
  {
   "cell_type": "code",
   "execution_count": 76,
   "id": "08eaf051",
   "metadata": {},
   "outputs": [
    {
     "name": "stdout",
     "output_type": "stream",
     "text": [
      "<class 'float'>\n"
     ]
    }
   ],
   "source": [
    "print(type(percent))"
   ]
  }
 ],
 "metadata": {
  "kernelspec": {
   "display_name": "Python 3",
   "language": "python",
   "name": "python3"
  },
  "language_info": {
   "codemirror_mode": {
    "name": "ipython",
    "version": 3
   },
   "file_extension": ".py",
   "mimetype": "text/x-python",
   "name": "python",
   "nbconvert_exporter": "python",
   "pygments_lexer": "ipython3",
   "version": "3.8.8"
  }
 },
 "nbformat": 4,
 "nbformat_minor": 5
}
